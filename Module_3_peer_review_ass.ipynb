{
 "cells": [
  {
   "cell_type": "markdown",
   "id": "000a4dd6-81e3-4fe8-898b-6de6c7fb5ae5",
   "metadata": {},
   "source": [
    "<a href=\"https://cognitiveclass.ai\"><img src = \"https://s3-api.us-geo.objectstorage.softlayer.net/cf-courses-data/CognitiveClass/Logos/organization_logo/organization_logo.png\" width = 400> </a>\n",
    "\n",
    "<h1 align=center><font size = 5>Regression Models with Keras Assignment</font></h1>"
   ]
  },
  {
   "cell_type": "markdown",
   "id": "37ecab23-2882-42fb-a047-1f565b3a1c22",
   "metadata": {},
   "source": [
    "<a href=\"https://cognitiveclass.ai\"><img src = \"https://s3-api.us-geo.objectstorage.softlayer.net/cf-courses-data/CognitiveClass/Logos/organization_logo/organization_logo.png\" width = 400> </a>\n",
    "\n",
    "<h1 align=center><font size = 5>Regression Models with Keras</font></h1>"
   ]
  },
  {
   "cell_type": "markdown",
   "id": "a4997347-3178-454a-a244-5aa0babcbe07",
   "metadata": {},
   "source": [
    "## Download and Clean Dataset"
   ]
  },
  {
   "cell_type": "markdown",
   "id": "0a377d0b-a0e3-4a53-a891-fd9e1bbfe1bd",
   "metadata": {},
   "source": [
    "Let's download the data and read it into a <em>pandas</em> dataframe."
   ]
  },
  {
   "cell_type": "markdown",
   "id": "a2e0f621-51e8-41f8-9418-93731c55acc7",
   "metadata": {},
   "source": [
    "\n",
    "First we start by importing the pandas (for dataframe creation) and the Numpy libraries (for scientific computing)."
   ]
  },
  {
   "cell_type": "code",
   "execution_count": 1,
   "id": "757532f1-ce3d-4187-9efe-9328cbb68115",
   "metadata": {},
   "outputs": [],
   "source": [
    "import pandas as pd\n",
    "import numpy as np"
   ]
  },
  {
   "cell_type": "markdown",
   "id": "604cc785-c426-4888-b00e-d1415cf7f6bb",
   "metadata": {},
   "source": [
    "Let's download the data and read it into a <em>pandas</em> dataframe."
   ]
  },
  {
   "cell_type": "code",
   "execution_count": 2,
   "id": "72d0b4a9-320d-4f3d-b798-3b2d75e7c472",
   "metadata": {},
   "outputs": [
    {
     "data": {
      "text/html": [
       "<div>\n",
       "<style scoped>\n",
       "    .dataframe tbody tr th:only-of-type {\n",
       "        vertical-align: middle;\n",
       "    }\n",
       "\n",
       "    .dataframe tbody tr th {\n",
       "        vertical-align: top;\n",
       "    }\n",
       "\n",
       "    .dataframe thead th {\n",
       "        text-align: right;\n",
       "    }\n",
       "</style>\n",
       "<table border=\"1\" class=\"dataframe\">\n",
       "  <thead>\n",
       "    <tr style=\"text-align: right;\">\n",
       "      <th></th>\n",
       "      <th>Cement</th>\n",
       "      <th>Blast Furnace Slag</th>\n",
       "      <th>Fly Ash</th>\n",
       "      <th>Water</th>\n",
       "      <th>Superplasticizer</th>\n",
       "      <th>Coarse Aggregate</th>\n",
       "      <th>Fine Aggregate</th>\n",
       "      <th>Age</th>\n",
       "      <th>Strength</th>\n",
       "    </tr>\n",
       "  </thead>\n",
       "  <tbody>\n",
       "    <tr>\n",
       "      <th>0</th>\n",
       "      <td>540.0</td>\n",
       "      <td>0.0</td>\n",
       "      <td>0.0</td>\n",
       "      <td>162.0</td>\n",
       "      <td>2.5</td>\n",
       "      <td>1040.0</td>\n",
       "      <td>676.0</td>\n",
       "      <td>28</td>\n",
       "      <td>79.99</td>\n",
       "    </tr>\n",
       "    <tr>\n",
       "      <th>1</th>\n",
       "      <td>540.0</td>\n",
       "      <td>0.0</td>\n",
       "      <td>0.0</td>\n",
       "      <td>162.0</td>\n",
       "      <td>2.5</td>\n",
       "      <td>1055.0</td>\n",
       "      <td>676.0</td>\n",
       "      <td>28</td>\n",
       "      <td>61.89</td>\n",
       "    </tr>\n",
       "    <tr>\n",
       "      <th>2</th>\n",
       "      <td>332.5</td>\n",
       "      <td>142.5</td>\n",
       "      <td>0.0</td>\n",
       "      <td>228.0</td>\n",
       "      <td>0.0</td>\n",
       "      <td>932.0</td>\n",
       "      <td>594.0</td>\n",
       "      <td>270</td>\n",
       "      <td>40.27</td>\n",
       "    </tr>\n",
       "    <tr>\n",
       "      <th>3</th>\n",
       "      <td>332.5</td>\n",
       "      <td>142.5</td>\n",
       "      <td>0.0</td>\n",
       "      <td>228.0</td>\n",
       "      <td>0.0</td>\n",
       "      <td>932.0</td>\n",
       "      <td>594.0</td>\n",
       "      <td>365</td>\n",
       "      <td>41.05</td>\n",
       "    </tr>\n",
       "    <tr>\n",
       "      <th>4</th>\n",
       "      <td>198.6</td>\n",
       "      <td>132.4</td>\n",
       "      <td>0.0</td>\n",
       "      <td>192.0</td>\n",
       "      <td>0.0</td>\n",
       "      <td>978.4</td>\n",
       "      <td>825.5</td>\n",
       "      <td>360</td>\n",
       "      <td>44.30</td>\n",
       "    </tr>\n",
       "  </tbody>\n",
       "</table>\n",
       "</div>"
      ],
      "text/plain": [
       "   Cement  Blast Furnace Slag  Fly Ash  Water  Superplasticizer  \\\n",
       "0   540.0                 0.0      0.0  162.0               2.5   \n",
       "1   540.0                 0.0      0.0  162.0               2.5   \n",
       "2   332.5               142.5      0.0  228.0               0.0   \n",
       "3   332.5               142.5      0.0  228.0               0.0   \n",
       "4   198.6               132.4      0.0  192.0               0.0   \n",
       "\n",
       "   Coarse Aggregate  Fine Aggregate  Age  Strength  \n",
       "0            1040.0           676.0   28     79.99  \n",
       "1            1055.0           676.0   28     61.89  \n",
       "2             932.0           594.0  270     40.27  \n",
       "3             932.0           594.0  365     41.05  \n",
       "4             978.4           825.5  360     44.30  "
      ]
     },
     "execution_count": 2,
     "metadata": {},
     "output_type": "execute_result"
    }
   ],
   "source": [
    "concrete_data = pd.read_csv('https://s3-api.us-geo.objectstorage.softlayer.net/cf-courses-data/CognitiveClass/DL0101EN/labs/data/concrete_data.csv')\n",
    "concrete_data.head()"
   ]
  },
  {
   "cell_type": "markdown",
   "id": "1f07e316-76bf-4abe-9183-72258bd11628",
   "metadata": {},
   "source": [
    "#### Let's check how many data points we have."
   ]
  },
  {
   "cell_type": "code",
   "execution_count": 3,
   "id": "23a30d5e-dcbf-41ed-8563-fe9fefb4bf4d",
   "metadata": {},
   "outputs": [
    {
     "data": {
      "text/plain": [
       "(1030, 9)"
      ]
     },
     "execution_count": 3,
     "metadata": {},
     "output_type": "execute_result"
    }
   ],
   "source": [
    "concrete_data.shape"
   ]
  },
  {
   "cell_type": "markdown",
   "id": "50ae6570-b243-4080-bcac-e0b13f6ad226",
   "metadata": {},
   "source": [
    "Next, we check our dataset for any missing values"
   ]
  },
  {
   "cell_type": "code",
   "execution_count": 4,
   "id": "e2e2161b-f0e0-4d57-bc6e-44ea1633e562",
   "metadata": {},
   "outputs": [
    {
     "data": {
      "text/html": [
       "<div>\n",
       "<style scoped>\n",
       "    .dataframe tbody tr th:only-of-type {\n",
       "        vertical-align: middle;\n",
       "    }\n",
       "\n",
       "    .dataframe tbody tr th {\n",
       "        vertical-align: top;\n",
       "    }\n",
       "\n",
       "    .dataframe thead th {\n",
       "        text-align: right;\n",
       "    }\n",
       "</style>\n",
       "<table border=\"1\" class=\"dataframe\">\n",
       "  <thead>\n",
       "    <tr style=\"text-align: right;\">\n",
       "      <th></th>\n",
       "      <th>Cement</th>\n",
       "      <th>Blast Furnace Slag</th>\n",
       "      <th>Fly Ash</th>\n",
       "      <th>Water</th>\n",
       "      <th>Superplasticizer</th>\n",
       "      <th>Coarse Aggregate</th>\n",
       "      <th>Fine Aggregate</th>\n",
       "      <th>Age</th>\n",
       "      <th>Strength</th>\n",
       "    </tr>\n",
       "  </thead>\n",
       "  <tbody>\n",
       "    <tr>\n",
       "      <th>count</th>\n",
       "      <td>1030.000000</td>\n",
       "      <td>1030.000000</td>\n",
       "      <td>1030.000000</td>\n",
       "      <td>1030.000000</td>\n",
       "      <td>1030.000000</td>\n",
       "      <td>1030.000000</td>\n",
       "      <td>1030.000000</td>\n",
       "      <td>1030.000000</td>\n",
       "      <td>1030.000000</td>\n",
       "    </tr>\n",
       "    <tr>\n",
       "      <th>mean</th>\n",
       "      <td>281.167864</td>\n",
       "      <td>73.895825</td>\n",
       "      <td>54.188350</td>\n",
       "      <td>181.567282</td>\n",
       "      <td>6.204660</td>\n",
       "      <td>972.918932</td>\n",
       "      <td>773.580485</td>\n",
       "      <td>45.662136</td>\n",
       "      <td>35.817961</td>\n",
       "    </tr>\n",
       "    <tr>\n",
       "      <th>std</th>\n",
       "      <td>104.506364</td>\n",
       "      <td>86.279342</td>\n",
       "      <td>63.997004</td>\n",
       "      <td>21.354219</td>\n",
       "      <td>5.973841</td>\n",
       "      <td>77.753954</td>\n",
       "      <td>80.175980</td>\n",
       "      <td>63.169912</td>\n",
       "      <td>16.705742</td>\n",
       "    </tr>\n",
       "    <tr>\n",
       "      <th>min</th>\n",
       "      <td>102.000000</td>\n",
       "      <td>0.000000</td>\n",
       "      <td>0.000000</td>\n",
       "      <td>121.800000</td>\n",
       "      <td>0.000000</td>\n",
       "      <td>801.000000</td>\n",
       "      <td>594.000000</td>\n",
       "      <td>1.000000</td>\n",
       "      <td>2.330000</td>\n",
       "    </tr>\n",
       "    <tr>\n",
       "      <th>25%</th>\n",
       "      <td>192.375000</td>\n",
       "      <td>0.000000</td>\n",
       "      <td>0.000000</td>\n",
       "      <td>164.900000</td>\n",
       "      <td>0.000000</td>\n",
       "      <td>932.000000</td>\n",
       "      <td>730.950000</td>\n",
       "      <td>7.000000</td>\n",
       "      <td>23.710000</td>\n",
       "    </tr>\n",
       "    <tr>\n",
       "      <th>50%</th>\n",
       "      <td>272.900000</td>\n",
       "      <td>22.000000</td>\n",
       "      <td>0.000000</td>\n",
       "      <td>185.000000</td>\n",
       "      <td>6.400000</td>\n",
       "      <td>968.000000</td>\n",
       "      <td>779.500000</td>\n",
       "      <td>28.000000</td>\n",
       "      <td>34.445000</td>\n",
       "    </tr>\n",
       "    <tr>\n",
       "      <th>75%</th>\n",
       "      <td>350.000000</td>\n",
       "      <td>142.950000</td>\n",
       "      <td>118.300000</td>\n",
       "      <td>192.000000</td>\n",
       "      <td>10.200000</td>\n",
       "      <td>1029.400000</td>\n",
       "      <td>824.000000</td>\n",
       "      <td>56.000000</td>\n",
       "      <td>46.135000</td>\n",
       "    </tr>\n",
       "    <tr>\n",
       "      <th>max</th>\n",
       "      <td>540.000000</td>\n",
       "      <td>359.400000</td>\n",
       "      <td>200.100000</td>\n",
       "      <td>247.000000</td>\n",
       "      <td>32.200000</td>\n",
       "      <td>1145.000000</td>\n",
       "      <td>992.600000</td>\n",
       "      <td>365.000000</td>\n",
       "      <td>82.600000</td>\n",
       "    </tr>\n",
       "  </tbody>\n",
       "</table>\n",
       "</div>"
      ],
      "text/plain": [
       "            Cement  Blast Furnace Slag      Fly Ash        Water  \\\n",
       "count  1030.000000         1030.000000  1030.000000  1030.000000   \n",
       "mean    281.167864           73.895825    54.188350   181.567282   \n",
       "std     104.506364           86.279342    63.997004    21.354219   \n",
       "min     102.000000            0.000000     0.000000   121.800000   \n",
       "25%     192.375000            0.000000     0.000000   164.900000   \n",
       "50%     272.900000           22.000000     0.000000   185.000000   \n",
       "75%     350.000000          142.950000   118.300000   192.000000   \n",
       "max     540.000000          359.400000   200.100000   247.000000   \n",
       "\n",
       "       Superplasticizer  Coarse Aggregate  Fine Aggregate          Age  \\\n",
       "count       1030.000000       1030.000000     1030.000000  1030.000000   \n",
       "mean           6.204660        972.918932      773.580485    45.662136   \n",
       "std            5.973841         77.753954       80.175980    63.169912   \n",
       "min            0.000000        801.000000      594.000000     1.000000   \n",
       "25%            0.000000        932.000000      730.950000     7.000000   \n",
       "50%            6.400000        968.000000      779.500000    28.000000   \n",
       "75%           10.200000       1029.400000      824.000000    56.000000   \n",
       "max           32.200000       1145.000000      992.600000   365.000000   \n",
       "\n",
       "          Strength  \n",
       "count  1030.000000  \n",
       "mean     35.817961  \n",
       "std      16.705742  \n",
       "min       2.330000  \n",
       "25%      23.710000  \n",
       "50%      34.445000  \n",
       "75%      46.135000  \n",
       "max      82.600000  "
      ]
     },
     "execution_count": 4,
     "metadata": {},
     "output_type": "execute_result"
    }
   ],
   "source": [
    "concrete_data.describe()"
   ]
  },
  {
   "cell_type": "code",
   "execution_count": 5,
   "id": "f2f21a9a-2bfb-4565-ad27-bcadb74e289f",
   "metadata": {},
   "outputs": [
    {
     "data": {
      "text/plain": [
       "Cement                0\n",
       "Blast Furnace Slag    0\n",
       "Fly Ash               0\n",
       "Water                 0\n",
       "Superplasticizer      0\n",
       "Coarse Aggregate      0\n",
       "Fine Aggregate        0\n",
       "Age                   0\n",
       "Strength              0\n",
       "dtype: int64"
      ]
     },
     "execution_count": 5,
     "metadata": {},
     "output_type": "execute_result"
    }
   ],
   "source": [
    "concrete_data.isnull().sum()"
   ]
  },
  {
   "cell_type": "markdown",
   "id": "acdc918d-5f83-4afb-ae12-0a96385a06d2",
   "metadata": {},
   "source": [
    "Perfect! We seen to have a clean dataset with no missing values."
   ]
  },
  {
   "cell_type": "markdown",
   "id": "05ab802c-4ac2-470f-b0bf-4964d8a0739a",
   "metadata": {},
   "source": [
    "The next step is to split the predictors from the target feature"
   ]
  },
  {
   "cell_type": "markdown",
   "id": "c25f0ed4-1516-4b24-b4bb-922ad587b345",
   "metadata": {},
   "source": [
    "1. Randomly split the data into a training and test sets by holding 30% of the data for testing"
   ]
  },
  {
   "cell_type": "code",
   "execution_count": 6,
   "id": "69956dd1-5f8a-4939-94ef-0061179dbd42",
   "metadata": {},
   "outputs": [],
   "source": [
    "from sklearn.model_selection import train_test_split"
   ]
  },
  {
   "cell_type": "code",
   "execution_count": 7,
   "id": "067fbeee-9b13-4f8b-a804-1650ce50e205",
   "metadata": {},
   "outputs": [],
   "source": [
    "train_set, test_set = train_test_split(concrete_data,test_size=0.30)"
   ]
  },
  {
   "cell_type": "code",
   "execution_count": 8,
   "id": "1039f688-4932-4a81-8aa9-9f11cf4adb6d",
   "metadata": {},
   "outputs": [
    {
     "name": "stdout",
     "output_type": "stream",
     "text": [
      "train (721, 9)\n"
     ]
    }
   ],
   "source": [
    "print('train {0}'.format(train_set.shape))"
   ]
  },
  {
   "cell_type": "code",
   "execution_count": 9,
   "id": "293c9de7-09bf-4420-8a98-f9876fe9db7e",
   "metadata": {},
   "outputs": [
    {
     "name": "stdout",
     "output_type": "stream",
     "text": [
      "test (309, 9)\n"
     ]
    }
   ],
   "source": [
    "print('test {0}'.format(test_set.shape))"
   ]
  },
  {
   "cell_type": "markdown",
   "id": "bb9efd2f-b5eb-4f06-a91e-3c4a1e614b1a",
   "metadata": {},
   "source": [
    "## The target variable in this problem is the concrete sample strength. Therefore, our predictors will be all the other columns."
   ]
  },
  {
   "cell_type": "markdown",
   "id": "76e8abe5-9e77-4b8a-85f9-5e5e62a67ede",
   "metadata": {},
   "source": [
    "## Let's split the sets up for mse"
   ]
  },
  {
   "cell_type": "code",
   "execution_count": 10,
   "id": "4561a3a1-3b27-4c42-82d5-e52473b66029",
   "metadata": {},
   "outputs": [],
   "source": [
    "# need to use train_set and test_set\n",
    "concrete_data_columns = train_set.columns"
   ]
  },
  {
   "cell_type": "code",
   "execution_count": 11,
   "id": "3ae05cc4-69d2-4efb-b7d0-7753692a3aa3",
   "metadata": {},
   "outputs": [],
   "source": [
    "predictors_train_set = train_set[concrete_data_columns[concrete_data_columns != 'Strength']] # all columns except Strength"
   ]
  },
  {
   "cell_type": "code",
   "execution_count": 12,
   "id": "a5240f3d-589a-4474-be58-c40bb6d84d36",
   "metadata": {},
   "outputs": [],
   "source": [
    "target_train_set = train_set['Strength'] # Strength column"
   ]
  },
  {
   "cell_type": "code",
   "execution_count": 13,
   "id": "792979eb-b555-4c70-9f30-840c85afc012",
   "metadata": {},
   "outputs": [],
   "source": [
    "#test set\n",
    "predictors_test_set = test_set[concrete_data_columns[concrete_data_columns != 'Strength']] # all columns except Strength\n",
    "target_test_set = test_set['Strength'] # Strength column"
   ]
  },
  {
   "cell_type": "markdown",
   "id": "9d631800-f0d9-4093-8c8f-f5ee4c390f65",
   "metadata": {},
   "source": [
    "The last data preparation step is to normalize our predtictors."
   ]
  },
  {
   "cell_type": "code",
   "execution_count": 14,
   "id": "deb94491-3956-4411-88ea-c81c564a856b",
   "metadata": {},
   "outputs": [],
   "source": [
    "predictors_norm_train_set = (predictors_train_set - predictors_train_set.mean()) / predictors_train_set.std()\n",
    "predictors_norm_test_set = (predictors_test_set - predictors_test_set.mean()) / predictors_test_set.std()"
   ]
  },
  {
   "cell_type": "code",
   "execution_count": 15,
   "id": "191f2cdb-cb67-4c00-bbfb-126ed23878a8",
   "metadata": {},
   "outputs": [
    {
     "data": {
      "text/html": [
       "<div>\n",
       "<style scoped>\n",
       "    .dataframe tbody tr th:only-of-type {\n",
       "        vertical-align: middle;\n",
       "    }\n",
       "\n",
       "    .dataframe tbody tr th {\n",
       "        vertical-align: top;\n",
       "    }\n",
       "\n",
       "    .dataframe thead th {\n",
       "        text-align: right;\n",
       "    }\n",
       "</style>\n",
       "<table border=\"1\" class=\"dataframe\">\n",
       "  <thead>\n",
       "    <tr style=\"text-align: right;\">\n",
       "      <th></th>\n",
       "      <th>Cement</th>\n",
       "      <th>Blast Furnace Slag</th>\n",
       "      <th>Fly Ash</th>\n",
       "      <th>Water</th>\n",
       "      <th>Superplasticizer</th>\n",
       "      <th>Coarse Aggregate</th>\n",
       "      <th>Fine Aggregate</th>\n",
       "      <th>Age</th>\n",
       "    </tr>\n",
       "  </thead>\n",
       "  <tbody>\n",
       "    <tr>\n",
       "      <th>408</th>\n",
       "      <td>-0.972785</td>\n",
       "      <td>0.643636</td>\n",
       "      <td>1.032962</td>\n",
       "      <td>-0.067590</td>\n",
       "      <td>-0.411355</td>\n",
       "      <td>0.420701</td>\n",
       "      <td>-0.369614</td>\n",
       "      <td>-0.681424</td>\n",
       "    </tr>\n",
       "    <tr>\n",
       "      <th>457</th>\n",
       "      <td>-0.261000</td>\n",
       "      <td>-0.851976</td>\n",
       "      <td>1.028237</td>\n",
       "      <td>0.533134</td>\n",
       "      <td>-0.037027</td>\n",
       "      <td>0.896335</td>\n",
       "      <td>-0.276605</td>\n",
       "      <td>0.196560</td>\n",
       "    </tr>\n",
       "    <tr>\n",
       "      <th>409</th>\n",
       "      <td>-1.075577</td>\n",
       "      <td>0.644788</td>\n",
       "      <td>1.190475</td>\n",
       "      <td>-0.270913</td>\n",
       "      <td>0.303271</td>\n",
       "      <td>0.407598</td>\n",
       "      <td>-0.372094</td>\n",
       "      <td>-0.681424</td>\n",
       "    </tr>\n",
       "    <tr>\n",
       "      <th>819</th>\n",
       "      <td>2.392195</td>\n",
       "      <td>-0.851976</td>\n",
       "      <td>-0.835135</td>\n",
       "      <td>0.352917</td>\n",
       "      <td>-1.023892</td>\n",
       "      <td>1.962906</td>\n",
       "      <td>-2.028901</td>\n",
       "      <td>0.759796</td>\n",
       "    </tr>\n",
       "    <tr>\n",
       "      <th>783</th>\n",
       "      <td>0.171502</td>\n",
       "      <td>-0.851976</td>\n",
       "      <td>-0.835135</td>\n",
       "      <td>0.491546</td>\n",
       "      <td>-1.023892</td>\n",
       "      <td>1.438793</td>\n",
       "      <td>-0.143911</td>\n",
       "      <td>0.759796</td>\n",
       "    </tr>\n",
       "  </tbody>\n",
       "</table>\n",
       "</div>"
      ],
      "text/plain": [
       "       Cement  Blast Furnace Slag   Fly Ash     Water  Superplasticizer  \\\n",
       "408 -0.972785            0.643636  1.032962 -0.067590         -0.411355   \n",
       "457 -0.261000           -0.851976  1.028237  0.533134         -0.037027   \n",
       "409 -1.075577            0.644788  1.190475 -0.270913          0.303271   \n",
       "819  2.392195           -0.851976 -0.835135  0.352917         -1.023892   \n",
       "783  0.171502           -0.851976 -0.835135  0.491546         -1.023892   \n",
       "\n",
       "     Coarse Aggregate  Fine Aggregate       Age  \n",
       "408          0.420701       -0.369614 -0.681424  \n",
       "457          0.896335       -0.276605  0.196560  \n",
       "409          0.407598       -0.372094 -0.681424  \n",
       "819          1.962906       -2.028901  0.759796  \n",
       "783          1.438793       -0.143911  0.759796  "
      ]
     },
     "execution_count": 15,
     "metadata": {},
     "output_type": "execute_result"
    }
   ],
   "source": [
    "predictors_norm_train_set.head()"
   ]
  },
  {
   "cell_type": "markdown",
   "id": "fdaef5bb-e3ce-4bd4-b7f9-9b26b4c1a17a",
   "metadata": {},
   "source": [
    "Let's save the number of predictors to n_cols since we will need this number when building our network."
   ]
  },
  {
   "cell_type": "code",
   "execution_count": 16,
   "id": "027aad53-8fef-4591-b5ed-fdff01fae088",
   "metadata": {},
   "outputs": [
    {
     "name": "stdout",
     "output_type": "stream",
     "text": [
      "8\n"
     ]
    }
   ],
   "source": [
    "num_cols = predictors_norm_train_set.shape[1] # number of predictors\n",
    "print( num_cols )"
   ]
  },
  {
   "cell_type": "markdown",
   "id": "32e1c220-8ba8-4989-8af1-543698cdad15",
   "metadata": {},
   "source": [
    "#### Let's go ahead and import the Keras library"
   ]
  },
  {
   "cell_type": "code",
   "execution_count": 17,
   "id": "f612ff8f-406e-4e2c-a446-78dd628a5673",
   "metadata": {},
   "outputs": [
    {
     "name": "stderr",
     "output_type": "stream",
     "text": [
      "Using TensorFlow backend.\n",
      "/home/jupyterlab/conda/envs/python/lib/python3.6/site-packages/tensorflow/python/framework/dtypes.py:519: FutureWarning: Passing (type, 1) or '1type' as a synonym of type is deprecated; in a future version of numpy, it will be understood as (type, (1,)) / '(1,)type'.\n",
      "  _np_qint8 = np.dtype([(\"qint8\", np.int8, 1)])\n",
      "/home/jupyterlab/conda/envs/python/lib/python3.6/site-packages/tensorflow/python/framework/dtypes.py:520: FutureWarning: Passing (type, 1) or '1type' as a synonym of type is deprecated; in a future version of numpy, it will be understood as (type, (1,)) / '(1,)type'.\n",
      "  _np_quint8 = np.dtype([(\"quint8\", np.uint8, 1)])\n",
      "/home/jupyterlab/conda/envs/python/lib/python3.6/site-packages/tensorflow/python/framework/dtypes.py:521: FutureWarning: Passing (type, 1) or '1type' as a synonym of type is deprecated; in a future version of numpy, it will be understood as (type, (1,)) / '(1,)type'.\n",
      "  _np_qint16 = np.dtype([(\"qint16\", np.int16, 1)])\n",
      "/home/jupyterlab/conda/envs/python/lib/python3.6/site-packages/tensorflow/python/framework/dtypes.py:522: FutureWarning: Passing (type, 1) or '1type' as a synonym of type is deprecated; in a future version of numpy, it will be understood as (type, (1,)) / '(1,)type'.\n",
      "  _np_quint16 = np.dtype([(\"quint16\", np.uint16, 1)])\n",
      "/home/jupyterlab/conda/envs/python/lib/python3.6/site-packages/tensorflow/python/framework/dtypes.py:523: FutureWarning: Passing (type, 1) or '1type' as a synonym of type is deprecated; in a future version of numpy, it will be understood as (type, (1,)) / '(1,)type'.\n",
      "  _np_qint32 = np.dtype([(\"qint32\", np.int32, 1)])\n",
      "/home/jupyterlab/conda/envs/python/lib/python3.6/site-packages/tensorflow/python/framework/dtypes.py:528: FutureWarning: Passing (type, 1) or '1type' as a synonym of type is deprecated; in a future version of numpy, it will be understood as (type, (1,)) / '(1,)type'.\n",
      "  np_resource = np.dtype([(\"resource\", np.ubyte, 1)])\n"
     ]
    }
   ],
   "source": [
    "import keras"
   ]
  },
  {
   "cell_type": "markdown",
   "id": "a3410d0b-2692-46cd-8a1a-40b6010e2273",
   "metadata": {},
   "source": [
    "As you can see, the TensorFlow backend was used to install the Keras library."
   ]
  },
  {
   "cell_type": "markdown",
   "id": "737ffbcb-2a18-481a-9423-3ee15f53f143",
   "metadata": {},
   "source": [
    "Let's import the rest of the packages from the Keras library that we will need to build our regressoin model."
   ]
  },
  {
   "cell_type": "code",
   "execution_count": 18,
   "id": "565723e6-d476-45db-b16a-87e58d12eeea",
   "metadata": {},
   "outputs": [],
   "source": [
    "from keras.models import Sequential\n",
    "from keras.layers import Dense"
   ]
  },
  {
   "cell_type": "markdown",
   "id": "7e3d541d-3adf-4871-9f2e-42aea11ff9bc",
   "metadata": {},
   "source": [
    " Now let us build our baseline model. The requirements according to the assignment instruction is to use the Keras library to build a neural network with one hidden layer which contains 10 nodes. We are to use the ReLU function for activating this model. Furthermore, we are to use the adam optimizer and the mean squared error as the loss function. Let's go ahead and do just that."
   ]
  },
  {
   "cell_type": "code",
   "execution_count": 19,
   "id": "49a35308-2a51-46be-88e2-2f0f4aff3063",
   "metadata": {},
   "outputs": [],
   "source": [
    "# Let's define our regression model\n",
    "def regression_model():\n",
    "    # create model\n",
    "    model = Sequential()\n",
    "    model.add(Dense(10, activation='relu', input_shape=(num_cols,)))\n",
    "    model.add(Dense(1))\n",
    "    \n",
    "    # compile model\n",
    "    model.compile(optimizer='adam', loss='mean_squared_error')\n",
    "    return model"
   ]
  },
  {
   "cell_type": "markdown",
   "id": "e7e9ad0b-0d73-4025-8663-1e21c82fa29b",
   "metadata": {},
   "source": [
    "The above function creates a model that has one hidden layer, each of 10 hidden units."
   ]
  },
  {
   "cell_type": "markdown",
   "id": "800bb404-64f2-4e70-813f-6305f3aa929f",
   "metadata": {},
   "source": [
    "2. A Train the model on the training data using 50 epochs\n",
    "\n",
    "3. Evaluate the model on the test data and compute the mean squared error between the predicted concrete strength and the actual concrete strength. You can use the mean_squared_error function from Scikit-learn.\n",
    "\n",
    "4. Repeat steps 1 - 3, 50 times, i.e., create a list of 50 mean squared errors.\""
   ]
  },
  {
   "cell_type": "code",
   "execution_count": 20,
   "id": "c71f8f68-40e0-4640-a02a-6c794918930a",
   "metadata": {},
   "outputs": [],
   "source": [
    "# get the list for mse for printing\n",
    "import statistics "
   ]
  },
  {
   "cell_type": "code",
   "execution_count": 21,
   "id": "eb5f54d6-e17f-4ef6-9b57-5de5c709ebf7",
   "metadata": {},
   "outputs": [],
   "source": [
    "from sklearn.metrics import mean_squared_error"
   ]
  },
  {
   "cell_type": "code",
   "execution_count": 22,
   "id": "585c9540-b700-4a68-855e-f8b7add48bca",
   "metadata": {},
   "outputs": [],
   "source": [
    "# build the model\n",
    "model = regression_model()"
   ]
  },
  {
   "cell_type": "code",
   "execution_count": 23,
   "id": "9d665575-5826-436d-98f6-8a2c8902275c",
   "metadata": {},
   "outputs": [
    {
     "name": "stdout",
     "output_type": "stream",
     "text": [
      "_________________________________________________________________\n",
      "Layer (type)                 Output Shape              Param #   \n",
      "=================================================================\n",
      "dense_1 (Dense)              (None, 10)                90        \n",
      "_________________________________________________________________\n",
      "dense_2 (Dense)              (None, 1)                 11        \n",
      "=================================================================\n",
      "Total params: 101\n",
      "Trainable params: 101\n",
      "Non-trainable params: 0\n",
      "_________________________________________________________________\n",
      "None\n"
     ]
    }
   ],
   "source": [
    "print(model.summary())"
   ]
  },
  {
   "cell_type": "code",
   "execution_count": 24,
   "id": "00b98fa0-7b9b-41e1-83ac-521cdec3ad1c",
   "metadata": {},
   "outputs": [],
   "source": [
    "mse_results=[]"
   ]
  },
  {
   "cell_type": "code",
   "execution_count": 25,
   "id": "e8511297-1993-4876-a2a4-89b4d134d324",
   "metadata": {},
   "outputs": [],
   "source": [
    "for x in range(50):\n",
    "     # fit the model\n",
    "    model.fit(predictors_train_set, target_train_set, epochs=50, verbose=0)\n",
    "    train_results = model.predict( predictors_test_set )\n",
    "    mse_results.append( mean_squared_error(target_test_set, train_results) )"
   ]
  },
  {
   "cell_type": "markdown",
   "id": "c92a2d73-35ea-41bf-9918-82fab44edec1",
   "metadata": {},
   "source": [
    "5. Report the mean and the standard deviation of the mean squared errors."
   ]
  },
  {
   "cell_type": "code",
   "execution_count": 34,
   "id": "bc389794-8743-4293-9591-9ffd6cac62ef",
   "metadata": {},
   "outputs": [
    {
     "name": "stdout",
     "output_type": "stream",
     "text": [
      "52.899856240977485\n",
      "24.70798635561496\n"
     ]
    }
   ],
   "source": [
    "print(statistics.mean(mse_results)) \n",
    "print(statistics.stdev( mse_results))"
   ]
  },
  {
   "cell_type": "markdown",
   "id": "27b4dc5f-22bc-41e1-9b85-0c08f4a5a352",
   "metadata": {},
   "source": [
    "## B.Normalize the data\n",
    "Repeat Part A but use a normalized version of the data. Recall that one way to normalize the data is by subtracting the mean from the individual predictors and dividing by the standard deviation."
   ]
  },
  {
   "cell_type": "markdown",
   "id": "b1062175-1c7a-4e39-9002-40774bf9a622",
   "metadata": {},
   "source": [
    "We already have our data normalized refer to line for more information"
   ]
  },
  {
   "cell_type": "code",
   "execution_count": 35,
   "id": "dc081e71-8044-438c-a5eb-1b3564915b05",
   "metadata": {},
   "outputs": [],
   "source": [
    "for x in range(50):\n",
    "     # fit the model\n",
    "    model.fit(predictors_norm_train_set, target_train_set, epochs=50, verbose=0)\n",
    "    train_results = model.predict( predictors_norm_test_set )\n",
    "    mse_results.append( mean_squared_error(target_test_set, train_results) )"
   ]
  },
  {
   "cell_type": "code",
   "execution_count": 37,
   "id": "292964a1-ff42-41e3-a9c8-544ca269e243",
   "metadata": {},
   "outputs": [
    {
     "name": "stdout",
     "output_type": "stream",
     "text": [
      "52.855219519859205\n",
      "34.97369061453728\n"
     ]
    }
   ],
   "source": [
    "print(statistics.mean( mse_results ))\n",
    "print( statistics.stdev( mse_results ))"
   ]
  },
  {
   "cell_type": "markdown",
   "id": "937ba3c6-ba98-4378-9556-3464d9982082",
   "metadata": {},
   "source": [
    "Conclusion: There is not much of a difference in the MSE but the standard deviation seems to increase with normalization"
   ]
  },
  {
   "cell_type": "markdown",
   "id": "dd9cbc19-c071-426e-a9c3-366483b115d1",
   "metadata": {},
   "source": [
    "## C. Increase the number of epochs\n",
    "Repeat Part B but use 100 epochs this time for training."
   ]
  },
  {
   "cell_type": "code",
   "execution_count": 38,
   "id": "0b7ae021-35f7-44ca-bd1a-9210e8895470",
   "metadata": {},
   "outputs": [],
   "source": [
    "for x in range(50):\n",
    "     # fit the model\n",
    "    model.fit(predictors_norm_train_set, target_train_set, epochs=100, verbose=0)\n",
    "    train_results = model.predict( predictors_norm_test_set )\n",
    "    mse_results.append( mean_squared_error(target_test_set, train_results) )\n",
    "    "
   ]
  },
  {
   "cell_type": "code",
   "execution_count": 36,
   "id": "6916d949-4bd6-4b72-b569-e452c1f4cf64",
   "metadata": {},
   "outputs": [
    {
     "name": "stdout",
     "output_type": "stream",
     "text": [
      "52.855219519859205\n",
      "34.97369061453728\n"
     ]
    }
   ],
   "source": [
    "print(statistics.mean( mse_results ))\n",
    "print( statistics.stdev( mse_results ))"
   ]
  },
  {
   "cell_type": "markdown",
   "id": "6ef28c58-2802-4aa6-9d55-96403edaac68",
   "metadata": {},
   "source": [
    "## D. Increase the number of hidden layers\n",
    "\n",
    "Repeat part B but use a neural network with the following instead:\n",
    "\n",
    "- Three hidden layers, each of 10 nodes and ReLU activation function."
   ]
  },
  {
   "cell_type": "code",
   "execution_count": 39,
   "id": "45f402a5-33dd-41dc-a280-a2fcaa734507",
   "metadata": {},
   "outputs": [],
   "source": [
    "# Let's define our regression model\n",
    "def regression_model_three_layers():\n",
    "    # create model\n",
    "    model = Sequential()\n",
    "    model.add(Dense(10, activation='relu', input_shape=(num_cols,)))\n",
    "    model.add(Dense(10, activation='relu', input_shape=(num_cols,)))\n",
    "    model.add(Dense(10, activation='relu', input_shape=(num_cols,)))\n",
    "    model.add(Dense(1))\n",
    "    \n",
    "    # compile model\n",
    "    model.compile(optimizer='adam', loss='mean_squared_error')\n",
    "    return model"
   ]
  },
  {
   "cell_type": "code",
   "execution_count": 40,
   "id": "9e038136-91db-4329-b4ef-230e6514bff4",
   "metadata": {},
   "outputs": [],
   "source": [
    "# get the list for mse for printing\n",
    "import statistics "
   ]
  },
  {
   "cell_type": "code",
   "execution_count": 41,
   "id": "a6a668a3-69a5-47e8-87d1-4c96d32141a1",
   "metadata": {},
   "outputs": [],
   "source": [
    "from sklearn.metrics import mean_squared_error"
   ]
  },
  {
   "cell_type": "code",
   "execution_count": 42,
   "id": "815e019f-95ff-4c97-9e2c-0854f1db8b03",
   "metadata": {},
   "outputs": [],
   "source": [
    "# build the model\n",
    "model = regression_model_three_layers()"
   ]
  },
  {
   "cell_type": "code",
   "execution_count": 43,
   "id": "860ab095-aa3f-44eb-8988-a58edda32521",
   "metadata": {},
   "outputs": [
    {
     "name": "stdout",
     "output_type": "stream",
     "text": [
      "_________________________________________________________________\n",
      "Layer (type)                 Output Shape              Param #   \n",
      "=================================================================\n",
      "dense_3 (Dense)              (None, 10)                90        \n",
      "_________________________________________________________________\n",
      "dense_4 (Dense)              (None, 10)                110       \n",
      "_________________________________________________________________\n",
      "dense_5 (Dense)              (None, 10)                110       \n",
      "_________________________________________________________________\n",
      "dense_6 (Dense)              (None, 1)                 11        \n",
      "=================================================================\n",
      "Total params: 321\n",
      "Trainable params: 321\n",
      "Non-trainable params: 0\n",
      "_________________________________________________________________\n",
      "None\n"
     ]
    }
   ],
   "source": [
    "print(model.summary())"
   ]
  },
  {
   "cell_type": "code",
   "execution_count": 44,
   "id": "ab6f3d81-4383-43dd-b535-d84af80b94a0",
   "metadata": {},
   "outputs": [],
   "source": [
    "mse_results=[]"
   ]
  },
  {
   "cell_type": "code",
   "execution_count": 45,
   "id": "bcd4b4b2-3474-4af5-b0b2-d3dfbe0f31d2",
   "metadata": {},
   "outputs": [],
   "source": [
    "for x in range(50):\n",
    "     # fit the model\n",
    "    model.fit(predictors_norm_train_set, target_train_set, epochs=50, verbose=0)\n",
    "    train_results = model.predict( predictors_norm_test_set )\n",
    "    mse_results.append( mean_squared_error(target_test_set, train_results) )"
   ]
  },
  {
   "cell_type": "code",
   "execution_count": 46,
   "id": "e369272a-3dbf-4969-a42c-a59e7aa3918b",
   "metadata": {},
   "outputs": [
    {
     "name": "stdout",
     "output_type": "stream",
     "text": [
      "42.815229782071164\n",
      "17.48566384697234\n"
     ]
    }
   ],
   "source": [
    "print(statistics.mean(mse_results))\n",
    "print(statistics.stdev(mse_results))"
   ]
  },
  {
   "cell_type": "markdown",
   "id": "0e9e44d2-00bc-4bb5-84b8-a1c056989904",
   "metadata": {},
   "source": [
    "Conclusion: With increasing the hidden layers, reuslts in a significant decrease in both MSE and the standard deviation."
   ]
  },
  {
   "cell_type": "code",
   "execution_count": null,
   "id": "9e2e980b-c869-4c72-9bf2-4dcdeae27375",
   "metadata": {},
   "outputs": [],
   "source": []
  }
 ],
 "metadata": {
  "kernelspec": {
   "display_name": "Python",
   "language": "python",
   "name": "conda-env-python-py"
  },
  "language_info": {
   "codemirror_mode": {
    "name": "ipython",
    "version": 3
   },
   "file_extension": ".py",
   "mimetype": "text/x-python",
   "name": "python",
   "nbconvert_exporter": "python",
   "pygments_lexer": "ipython3",
   "version": "3.6.13"
  }
 },
 "nbformat": 4,
 "nbformat_minor": 5
}
